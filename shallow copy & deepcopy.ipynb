{
 "cells": [
  {
   "cell_type": "code",
   "execution_count": 23,
   "id": "90edd790",
   "metadata": {},
   "outputs": [
    {
     "name": "stdout",
     "output_type": "stream",
     "text": [
      "Old list: [[10, 'changed', 1], [28, 23, 2], [37, 3, 3]]\n",
      "New list: [[10, 'changed', 1], [28, 23, 2], [37, 3, 3]]\n"
     ]
    }
   ],
   "source": [
    "import copy#shallow copy\n",
    "\n",
    "oldlist = [[10, 10, 1], [28, 23, 2], [37, 3, 3]]\n",
    "newlist = copy.copy(oldlist)\n",
    "\n",
    "oldlist[0][1] = 'changed'\n",
    "\n",
    "print(\"Old list:\", oldlist)\n",
    "print(\"New list:\", newlist)"
   ]
  },
  {
   "cell_type": "code",
   "execution_count": 22,
   "id": "8b4e643c",
   "metadata": {},
   "outputs": [
    {
     "name": "stdout",
     "output_type": "stream",
     "text": [
      "Old list: [[5, 'changed', 4], [6, 8, 2], [9, 3, 3]]\n",
      "New list: [[5, 3, 4], [6, 8, 2], [9, 3, 3]]\n"
     ]
    }
   ],
   "source": [
    "import copy#deep copy\n",
    "\n",
    "oldlist = [[5, 3, 4], [6, 8, 2],[9 , 3 , 3]]\n",
    "newlist = copy.deepcopy(oldlist)\n",
    "\n",
    "oldlist[0][1] = 'changed'\n",
    "\n",
    "print(\"Old list:\", oldlist)\n",
    "print(\"New list:\", newlist)"
   ]
  },
  {
   "cell_type": "code",
   "execution_count": null,
   "id": "0d083ac4",
   "metadata": {},
   "outputs": [],
   "source": []
  }
 ],
 "metadata": {
  "kernelspec": {
   "display_name": "Python 3 (ipykernel)",
   "language": "python",
   "name": "python3"
  },
  "language_info": {
   "codemirror_mode": {
    "name": "ipython",
    "version": 3
   },
   "file_extension": ".py",
   "mimetype": "text/x-python",
   "name": "python",
   "nbconvert_exporter": "python",
   "pygments_lexer": "ipython3",
   "version": "3.10.9"
  }
 },
 "nbformat": 4,
 "nbformat_minor": 5
}
