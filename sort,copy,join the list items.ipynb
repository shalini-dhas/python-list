{
 "cells": [
  {
   "cell_type": "markdown",
   "id": "95e94862",
   "metadata": {},
   "source": [
    "# python list"
   ]
  },
  {
   "cell_type": "markdown",
   "id": "c3832d6b",
   "metadata": {},
   "source": [
    "sort,copy,join the list items"
   ]
  },
  {
   "cell_type": "code",
   "execution_count": 2,
   "id": "5e2f33af",
   "metadata": {},
   "outputs": [
    {
     "name": "stdout",
     "output_type": "stream",
     "text": [
      "['friday', 'monday', 'thursday', 'tuesday', 'wednesday']\n"
     ]
    }
   ],
   "source": [
    "workingdays = ['monday','tuesday','wednesday','thursday','friday']\n",
    "\n",
    "workingdays.sort() #sort the item of list in asc order\n",
    "\n",
    "print(workingdays)"
   ]
  },
  {
   "cell_type": "code",
   "execution_count": 5,
   "id": "fd082b37",
   "metadata": {},
   "outputs": [
    {
     "name": "stdout",
     "output_type": "stream",
     "text": [
      "['wednesday', 'tuesday', 'thursday', 'monday', 'friday']\n"
     ]
    }
   ],
   "source": [
    "workingdays = ['monday','tuesday','wednesday','thursday','friday']\n",
    "\n",
    "workingdays.sort(reverse = True) #sort the item of list in desc order\n",
    "\n",
    "print(workingdays)"
   ]
  },
  {
   "cell_type": "code",
   "execution_count": 7,
   "id": "521ec13a",
   "metadata": {},
   "outputs": [
    {
     "name": "stdout",
     "output_type": "stream",
     "text": [
      "['monday', 'friday', 'tuesday', 'thursday', 'wednesday']\n"
     ]
    }
   ],
   "source": [
    "workingdays = ['monday','tuesday','wednesday','thursday','friday']\n",
    "\n",
    "workingdays.sort(key = len) #sort the item of list by length\n",
    "\n",
    "print(workingdays)"
   ]
  },
  {
   "cell_type": "code",
   "execution_count": 8,
   "id": "4f210f88",
   "metadata": {},
   "outputs": [
    {
     "name": "stdout",
     "output_type": "stream",
     "text": [
      "[10, 23, 30, 33, 36, 45, 60, 95]\n"
     ]
    }
   ],
   "source": [
    "number = [10,60,30,45,36,33,95,23]\n",
    "\n",
    "number.sort() #sort the list  of integer in asc order\n",
    "\n",
    "print(number)\n"
   ]
  },
  {
   "cell_type": "code",
   "execution_count": 9,
   "id": "4ebf95de",
   "metadata": {},
   "outputs": [
    {
     "name": "stdout",
     "output_type": "stream",
     "text": [
      "[95, 60, 45, 36, 33, 30, 23, 10]\n"
     ]
    }
   ],
   "source": [
    "number = [10,60,30,45,36,33,95,23]\n",
    "\n",
    "number.sort(reverse = True) #sort the list  of integer in desc order\n",
    "\n",
    "print(number)\n"
   ]
  },
  {
   "cell_type": "markdown",
   "id": "662be728",
   "metadata": {},
   "source": [
    "copy of list"
   ]
  },
  {
   "cell_type": "code",
   "execution_count": 15,
   "id": "dc0cc592",
   "metadata": {},
   "outputs": [
    {
     "name": "stdout",
     "output_type": "stream",
     "text": [
      "[10, 60, 30, 45, 36, 33, 95, 23]\n"
     ]
    }
   ],
   "source": [
    "list1 = [10,60,30,45,36,33,95,23]\n",
    "\n",
    "list2= list1[0:8]#copy the list using slicing\n",
    "\n",
    "print(list2)"
   ]
  },
  {
   "cell_type": "code",
   "execution_count": 17,
   "id": "17ce6fb9",
   "metadata": {},
   "outputs": [
    {
     "name": "stdout",
     "output_type": "stream",
     "text": [
      "[34, 44, 56, 66, 77, 88, 77, 33, 10, 60, 30, 45, 36, 33, 95, 23]\n"
     ]
    }
   ],
   "source": [
    "list1 = [10,60,30,45,36,33,95,23]\n",
    "\n",
    "list2 = [34,44,56,66,77,88,77,33]\n",
    "\n",
    "list2.extend(list1)#copy the list (combined)\n",
    "\n",
    "print(list2)"
   ]
  },
  {
   "cell_type": "code",
   "execution_count": 20,
   "id": "deb3357b",
   "metadata": {},
   "outputs": [
    {
     "name": "stdout",
     "output_type": "stream",
     "text": [
      "[10, 60, 30, 45, 36, 33, 95, 23]\n"
     ]
    }
   ],
   "source": [
    "list1 = [10,60,30,45,36,33,95,23]\n",
    "\n",
    "list2=list1.copy()#copy the list \n",
    "\n",
    "print(list2)"
   ]
  },
  {
   "cell_type": "code",
   "execution_count": 21,
   "id": "fd3802cc",
   "metadata": {},
   "outputs": [
    {
     "name": "stdout",
     "output_type": "stream",
     "text": [
      "[10, 60, 30, 45, 36, 33, 95, 23]\n"
     ]
    }
   ],
   "source": [
    "list1 = [10,60,30,45,36,33,95,23]\n",
    "\n",
    "list2=list(list1)#copy the list  using list\n",
    "\n",
    "print(list2)"
   ]
  },
  {
   "cell_type": "code",
   "execution_count": 24,
   "id": "9f7538c9",
   "metadata": {},
   "outputs": [
    {
     "name": "stdout",
     "output_type": "stream",
     "text": [
      "[10, 60, 30, 45, 36, 33, 95, 23]\n"
     ]
    }
   ],
   "source": [
    "list1 = [10,60,30,45,36,33,95,23]\n",
    "\n",
    "list2=[ i for i in list1]#listcomprehension\n",
    "\n",
    "print(list2)"
   ]
  },
  {
   "cell_type": "markdown",
   "id": "10382779",
   "metadata": {},
   "source": [
    "Join list"
   ]
  },
  {
   "cell_type": "code",
   "execution_count": 35,
   "id": "ef32497c",
   "metadata": {},
   "outputs": [
    {
     "name": "stdout",
     "output_type": "stream",
     "text": [
      "['a', 'g', 'd', 'j', 't', 'i', 'r', 6, 7, 7, 8]\n"
     ]
    }
   ],
   "source": [
    "list1 = ['a','g','d','j','t','i','r']\n",
    "\n",
    "list2 = [6,7,7,8]#join the list\n",
    "\n",
    "list3 = list1 + list2\n",
    "\n",
    "print(list3)"
   ]
  },
  {
   "cell_type": "code",
   "execution_count": 37,
   "id": "e7d65756",
   "metadata": {},
   "outputs": [
    {
     "name": "stdout",
     "output_type": "stream",
     "text": [
      "['a', 'g', 'd', 'j', 't', 'i', 'r', 6, 7, 7, 8]\n"
     ]
    }
   ],
   "source": [
    "list1 = ['a','g','d','j','t','i','r']\n",
    "\n",
    "list2 = [6,7,7,8]#join the list\n",
    "\n",
    "list3 = [*list1 ,*list2]\n",
    "\n",
    "print(list3)"
   ]
  },
  {
   "cell_type": "code",
   "execution_count": null,
   "id": "f0eb103f",
   "metadata": {},
   "outputs": [],
   "source": [
    "list1 = ['a','g','d','j','t','i','r']\n",
    "\n",
    "list2 = [6,7,7,8]#join the list\n",
    "\n",
    "list3.append[list1 ,*list2]\n",
    "\n",
    "print(list3)"
   ]
  },
  {
   "cell_type": "code",
   "execution_count": 44,
   "id": "086e95df",
   "metadata": {},
   "outputs": [
    {
     "name": "stdout",
     "output_type": "stream",
     "text": [
      "['a', 'g', 'd', 'j', 't', 'i', 'r', 6, 7, 7, 8]\n"
     ]
    }
   ],
   "source": [
    "list1 = ['a','g','d','j','t','i','r']\n",
    "\n",
    "list2 = [6,7,7,8]#join the list using append\n",
    "\n",
    "for x in list2:\n",
    "  list1.append(x)\n",
    "\n",
    "print(list1)\n"
   ]
  },
  {
   "cell_type": "code",
   "execution_count": 43,
   "id": "7c3b1018",
   "metadata": {},
   "outputs": [
    {
     "name": "stdout",
     "output_type": "stream",
     "text": [
      "['a', 'g', 'd', 'j', 't', 'i', 'r', 6, 7, 7, 8]\n"
     ]
    }
   ],
   "source": [
    "list1 = ['a','g','d','j','t','i','r']\n",
    "\n",
    "list2 = [6,7,7,8]#join the list\n",
    "\n",
    "list1.extend(list2)\n",
    "\n",
    "print(list1)"
   ]
  },
  {
   "cell_type": "code",
   "execution_count": null,
   "id": "5a7b2759",
   "metadata": {},
   "outputs": [],
   "source": []
  }
 ],
 "metadata": {
  "kernelspec": {
   "display_name": "Python 3 (ipykernel)",
   "language": "python",
   "name": "python3"
  },
  "language_info": {
   "codemirror_mode": {
    "name": "ipython",
    "version": 3
   },
   "file_extension": ".py",
   "mimetype": "text/x-python",
   "name": "python",
   "nbconvert_exporter": "python",
   "pygments_lexer": "ipython3",
   "version": "3.10.9"
  }
 },
 "nbformat": 4,
 "nbformat_minor": 5
}
