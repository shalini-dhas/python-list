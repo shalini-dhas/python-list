{
 "cells": [
  {
   "cell_type": "markdown",
   "id": "91adfe1b",
   "metadata": {},
   "source": [
    "# change ,add,remove the list items"
   ]
  },
  {
   "cell_type": "markdown",
   "id": "ac2eb5a9",
   "metadata": {},
   "source": [
    "Change the list items"
   ]
  },
  {
   "cell_type": "code",
   "execution_count": 17,
   "id": "e6af90ab",
   "metadata": {},
   "outputs": [
    {
     "name": "stdout",
     "output_type": "stream",
     "text": [
      "['java', 'hadoop', 'javascript', 'html', 'css']\n"
     ]
    }
   ],
   "source": [
    "technology=['java', 'hadoop', 'spark', 'html', 'css']  \n",
    "    \n",
    "technology[2]  = 'javascript'#change item value\n",
    "\n",
    "print(technology)"
   ]
  },
  {
   "cell_type": "code",
   "execution_count": 16,
   "id": "ba269a37",
   "metadata": {},
   "outputs": [
    {
     "name": "stdout",
     "output_type": "stream",
     "text": [
      "['java', 'hadoop', 'javascript', 'spark', 'html', 'css']\n"
     ]
    }
   ],
   "source": [
    "technology=['java', 'hadoop', 'spark', 'html', 'css']  \n",
    "    \n",
    "technology[2:3]  = ['javascript','spark']#change range of item value\n",
    "\n",
    "print(technology)"
   ]
  },
  {
   "cell_type": "markdown",
   "id": "d3840d0b",
   "metadata": {},
   "source": [
    "Adding list items"
   ]
  },
  {
   "cell_type": "code",
   "execution_count": 18,
   "id": "dfd1278f",
   "metadata": {},
   "outputs": [
    {
     "name": "stdout",
     "output_type": "stream",
     "text": [
      "['java', 'hadoop', 'spark', 'php', 'html', 'css']\n"
     ]
    }
   ],
   "source": [
    "technology=['java', 'hadoop', 'spark', 'html', 'css'] \n",
    "\n",
    "technology.insert(3,'php')#insert listitem\n",
    "\n",
    "print(technology)"
   ]
  },
  {
   "cell_type": "code",
   "execution_count": 19,
   "id": "a317c008",
   "metadata": {},
   "outputs": [
    {
     "name": "stdout",
     "output_type": "stream",
     "text": [
      "['java', 'hadoop', 'spark', 'html', 'css', 'bootsrap']\n"
     ]
    }
   ],
   "source": [
    "technology=['java', 'hadoop', 'spark', 'html', 'css'] \n",
    "\n",
    "technology.append('bootsrap')#add listitem\n",
    "\n",
    "print(technology)"
   ]
  },
  {
   "cell_type": "code",
   "execution_count": 29,
   "id": "bd5cf9f6",
   "metadata": {},
   "outputs": [
    {
     "name": "stdout",
     "output_type": "stream",
     "text": [
      "['java', 'hadoop', 'spark', 'html', 'css', 'p', 'h', 'p', 'bootstrap', 'php', 'bootstrap', 'php', 'bootstrap', 'php', 'bootstrap', 'php']\n"
     ]
    }
   ],
   "source": [
    "technology1=['java', 'hadoop', 'spark', 'html', 'css'] \n",
    "\n",
    "technology2=('bootstrap','php')\n",
    "\n",
    "technology.extend(technology2)#add listitem onelist to another\n",
    "\n",
    "print(technology)"
   ]
  },
  {
   "cell_type": "markdown",
   "id": "9d12a8f0",
   "metadata": {},
   "source": [
    "Remove items in the list"
   ]
  },
  {
   "cell_type": "code",
   "execution_count": 30,
   "id": "8769ece9",
   "metadata": {},
   "outputs": [
    {
     "name": "stdout",
     "output_type": "stream",
     "text": [
      "['hadoop', 'spark', 'html', 'css']\n"
     ]
    }
   ],
   "source": [
    "technology1=['java', 'hadoop', 'spark', 'html', 'css'] \n",
    "\n",
    "technology1.remove('java')#remove item\n",
    "\n",
    "print(technology1)"
   ]
  },
  {
   "cell_type": "code",
   "execution_count": 31,
   "id": "6c5e9cde",
   "metadata": {},
   "outputs": [
    {
     "name": "stdout",
     "output_type": "stream",
     "text": [
      "['java', 'hadoop', 'html', 'css']\n"
     ]
    }
   ],
   "source": [
    "technology1=['java', 'hadoop', 'spark', 'html', 'css'] \n",
    "\n",
    "technology1.pop(2)#remove item\n",
    "\n",
    "print(technology1)"
   ]
  },
  {
   "cell_type": "code",
   "execution_count": 33,
   "id": "e17842fe",
   "metadata": {},
   "outputs": [
    {
     "name": "stdout",
     "output_type": "stream",
     "text": [
      "['java', 'hadoop', 'spark', 'css']\n"
     ]
    }
   ],
   "source": [
    "technology1=['java', 'hadoop', 'spark', 'html', 'css'] \n",
    "\n",
    "del technology1[3]\n",
    "\n",
    "print(technology1)"
   ]
  },
  {
   "cell_type": "markdown",
   "id": "290d43e0",
   "metadata": {},
   "source": [
    "loop list"
   ]
  },
  {
   "cell_type": "code",
   "execution_count": 36,
   "id": "0d2bbd2f",
   "metadata": {},
   "outputs": [
    {
     "name": "stdout",
     "output_type": "stream",
     "text": [
      "java\n",
      "hadoop\n",
      "spark\n",
      "html\n",
      "css\n"
     ]
    }
   ],
   "source": [
    "technology1=['java', 'hadoop', 'spark', 'html', 'css'] \n",
    "\n",
    "for ph in technology1:\n",
    "    \n",
    "   print(ph)\n"
   ]
  },
  {
   "cell_type": "code",
   "execution_count": 46,
   "id": "ad7773cb",
   "metadata": {},
   "outputs": [
    {
     "name": "stdout",
     "output_type": "stream",
     "text": [
      "java\n",
      "hadoop\n",
      "spark\n",
      "css\n",
      "p\n"
     ]
    }
   ],
   "source": [
    "technology1=['java', 'hadoop', 'spark', 'html', 'css']\n",
    "\n",
    "ph= 0\n",
    "\n",
    "for ph in range(len(technology1)):\n",
    "    \n",
    "   print(technology[ph])"
   ]
  },
  {
   "cell_type": "code",
   "execution_count": null,
   "id": "b1e3a9fd",
   "metadata": {},
   "outputs": [],
   "source": [
    "technology1=['java', 'hadoop', 'spark', 'html', 'css']\n",
    "\n",
    "ph= 0\n",
    "\n",
    "while ph < len(technology):\n",
    "    \n",
    "   print(technology1[ph])\n",
    "i=i+1"
   ]
  },
  {
   "cell_type": "code",
   "execution_count": null,
   "id": "4f145c4f",
   "metadata": {},
   "outputs": [],
   "source": [
    "i = 1\n",
    "n = 5\n",
    "\n",
    "while i <= n:\n",
    "    print(i)\n",
    "    i = i + 1 \n",
    "    "
   ]
  }
 ],
 "metadata": {
  "kernelspec": {
   "display_name": "Python 3 (ipykernel)",
   "language": "python",
   "name": "python3"
  },
  "language_info": {
   "codemirror_mode": {
    "name": "ipython",
    "version": 3
   },
   "file_extension": ".py",
   "mimetype": "text/x-python",
   "name": "python",
   "nbconvert_exporter": "python",
   "pygments_lexer": "ipython3",
   "version": "3.10.9"
  }
 },
 "nbformat": 4,
 "nbformat_minor": 5
}
